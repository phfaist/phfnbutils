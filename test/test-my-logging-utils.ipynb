{
 "cells": [
  {
   "cell_type": "code",
   "execution_count": 1,
   "metadata": {},
   "outputs": [],
   "source": [
    "import sys\n",
    "sys.path.insert(0, '.')\n",
    "\n",
    "import logging\n",
    "import re\n",
    "from IPython.display import display, Markdown, Latex, HTML"
   ]
  },
  {
   "cell_type": "code",
   "execution_count": 2,
   "metadata": {},
   "outputs": [
    {
     "data": {
      "text/html": [
       "<b>[Debug: ]</b>"
      ],
      "text/plain": [
       "<IPython.core.display.HTML object>"
      ]
     },
     "metadata": {},
     "output_type": "display_data"
    }
   ],
   "source": [
    "display(HTML(\"<b>[Debug: ]</b>\"))"
   ]
  },
  {
   "cell_type": "code",
   "execution_count": 4,
   "metadata": {},
   "outputs": [
    {
     "data": {
      "text/html": [
       "<p style=\"margin:0pt;font-style:normal;color:rgb(140,140,160);\">💨 <span style=\"font-size:0.8em;font-weight:300;\">2020-09-12 13:12:22</span>&nbsp;·&nbsp;<span style=\"white-space:pre-wrap;\">Debugging message: value=3</span></p>\n"
      ],
      "text/plain": [
       "<IPython.core.display.HTML object>"
      ]
     },
     "metadata": {},
     "output_type": "display_data"
    },
    {
     "data": {
      "text/html": [
       "<p style=\"margin:0pt;font-style:normal;color:rgb(40,40,80);\">ℹ️ <span style=\"font-size:0.8em;font-weight:300;\">2020-09-12 13:12:22</span>&nbsp;·&nbsp;<span style=\"white-space:pre-wrap;\">Information message. You might be interested by this &amp; that</span></p>\n"
      ],
      "text/plain": [
       "<IPython.core.display.HTML object>"
      ]
     },
     "metadata": {},
     "output_type": "display_data"
    },
    {
     "data": {
      "text/html": [
       "<p style=\"margin:0pt;font-style:normal;color:rgb(140,140,160);\">💨 <span style=\"font-size:0.8em;font-weight:300;\">2020-09-12 13:12:22</span>&nbsp;·&nbsp;[testlogger2]&nbsp;·&nbsp;<span style=\"white-space:pre-wrap;\">Debugging message: value=3\n",
       "Also, A = [\n",
       "    1, 2, 3,\n",
       "    4, 5, 6]\n",
       "that was a whitespace test.</span></p>\n"
      ],
      "text/plain": [
       "<IPython.core.display.HTML object>"
      ]
     },
     "metadata": {},
     "output_type": "display_data"
    },
    {
     "data": {
      "text/html": [
       "<p style=\"margin:0pt;font-weight:500;color:rgb(160,100,0);\">⚠️ <span style=\"font-size:0.8em;font-weight:300;\">2020-09-12 13:12:22</span>&nbsp;·&nbsp;<span style=\"white-space:pre-wrap;\">Be careful! &lt;this is a warning&gt;&lt;I do think it is &amp; more even&gt;</span></p>\n"
      ],
      "text/plain": [
       "<IPython.core.display.HTML object>"
      ]
     },
     "metadata": {},
     "output_type": "display_data"
    },
    {
     "data": {
      "text/html": [
       "<p style=\"margin:0pt;font-weight:500;color:rgb(200,0,0);\">🚨 <span style=\"font-size:0.8em;font-weight:300;\">2020-09-12 13:12:22</span>&nbsp;·&nbsp;<span style=\"font-size:1.1em;white-space:pre-wrap;\">Error here.</span>&emsp;🚨</p>\n",
       "<pre style=\"margin-top:0.5em;color:rgb(200,0,0);\">Traceback (most recent call last):\n",
       "  File &quot;&lt;ipython-input-4-3fb4718dd9e0&gt;&quot;, line 13, in &lt;module&gt;\n",
       "    raise ValueError(&quot;An error occurred here!&quot;)\n",
       "ValueError: An error occurred here!</pre>\n"
      ],
      "text/plain": [
       "<IPython.core.display.HTML object>"
      ]
     },
     "metadata": {},
     "output_type": "display_data"
    },
    {
     "data": {
      "text/html": [
       "<p style=\"margin:0pt;font-weight:500;color:rgb(200,0,0);\">🚨 <span style=\"font-size:0.8em;font-weight:300;\">2020-09-12 13:12:22</span>&nbsp;·&nbsp;<span style=\"font-size:1.1em;white-space:pre-wrap;\">Crashing!! ***Critical message***</span>&emsp;🚨</p>\n"
      ],
      "text/plain": [
       "<IPython.core.display.HTML object>"
      ]
     },
     "metadata": {},
     "output_type": "display_data"
    }
   ],
   "source": [
    "import phfnbutils.nblogging as phfnblogger\n",
    "import importlib; importlib.reload(phfnblogger)\n",
    "\n",
    "testlogger = phfnblogger.setup(no_debug_for=('matplotlib',), no_info_for=('filelock',),)\n",
    "                               #use_time=False, standard_names=[])\n",
    "\n",
    "testlogger.debug(\"Debugging message: value=%d\", 3)\n",
    "testlogger.info(\"Information message. You might be interested by %s & %s\", \"this\", \"that\")\n",
    "newlogger = logging.getLogger('testlogger2')\n",
    "newlogger.debug(\"Debugging message: value=%d\\nAlso, A = [\\n    1, 2, 3,\\n    4, 5, 6]\\nthat was a whitespace test.\", 3)\n",
    "testlogger.warning(\"Be careful! <this is a warning><I do think it is & more even>\")\n",
    "try:\n",
    "    raise ValueError(\"An error occurred here!\")\n",
    "except Exception as e:\n",
    "    testlogger.error(\"Error here.\", exc_info=e)\n",
    "testlogger.critical(\"Crashing!! ***Critical message***\")"
   ]
  },
  {
   "cell_type": "code",
   "execution_count": null,
   "metadata": {},
   "outputs": [],
   "source": []
  },
  {
   "cell_type": "code",
   "execution_count": 4,
   "metadata": {},
   "outputs": [
    {
     "name": "stdout",
     "output_type": "stream",
     "text": []
    },
    {
     "data": {
      "text/html": [
       "<p style=\"margin:0pt;font-style:normal;color:rgb(140,140,160)\">💨 <span style=\"font-size:0.8em;font-weight:300;\">2020-09-04 11:46:41</span>&nbsp;·&nbsp;⚙️3&nbsp;·&nbsp;[testlogger2]&nbsp;·&nbsp;<span style=\"\">Starting task.</span></p>\n"
      ],
      "text/plain": [
       "<IPython.core.display.HTML object>"
      ]
     },
     "metadata": {},
     "output_type": "display_data"
    },
    {
     "name": "stdout",
     "output_type": "stream",
     "text": [
      ".\b"
     ]
    },
    {
     "data": {
      "text/html": [
       "<p style=\"margin:0pt;font-style:normal;color:rgb(140,140,160)\">💨 <span style=\"font-size:0.8em;font-weight:300;\">2020-09-04 11:46:41</span>&nbsp;·&nbsp;⚙️2&nbsp;·&nbsp;[testlogger2]&nbsp;·&nbsp;<span style=\"\">Starting task.</span></p>\n"
      ],
      "text/plain": [
       "<IPython.core.display.HTML object>"
      ]
     },
     "metadata": {},
     "output_type": "display_data"
    },
    {
     "data": {
      "text/html": [
       "<p style=\"margin:0pt;font-style:normal;color:rgb(140,140,160)\">💨 <span style=\"font-size:0.8em;font-weight:300;\">2020-09-04 11:46:41</span>&nbsp;·&nbsp;⚙️1&nbsp;·&nbsp;[testlogger2]&nbsp;·&nbsp;<span style=\"\">Starting task.</span></p>\n"
      ],
      "text/plain": [
       "<IPython.core.display.HTML object>"
      ]
     },
     "metadata": {},
     "output_type": "display_data"
    },
    {
     "data": {
      "text/html": [
       "<p style=\"margin:0pt;font-style:normal;color:rgb(40,40,80)\">ℹ️ <span style=\"font-size:0.8em;font-weight:300;\">2020-09-04 11:46:41</span>&nbsp;·&nbsp;⚙️2&nbsp;·&nbsp;[testlogger2]&nbsp;·&nbsp;<span style=\"\">test level 20</span></p>\n"
      ],
      "text/plain": [
       "<IPython.core.display.HTML object>"
      ]
     },
     "metadata": {},
     "output_type": "display_data"
    },
    {
     "data": {
      "text/html": [
       "<p style=\"margin:0pt;font-style:normal;color:rgb(140,140,160)\">💨 <span style=\"font-size:0.8em;font-weight:300;\">2020-09-04 11:46:41</span>&nbsp;·&nbsp;⚙️1&nbsp;·&nbsp;[testlogger2]&nbsp;·&nbsp;<span style=\"\">test level 10</span></p>\n"
      ],
      "text/plain": [
       "<IPython.core.display.HTML object>"
      ]
     },
     "metadata": {},
     "output_type": "display_data"
    },
    {
     "data": {
      "text/html": [
       "<p style=\"margin:0pt;font-weight:500;color:rgb(160,100,0)\">⚠️ <span style=\"font-size:0.8em;font-weight:300;\">2020-09-04 11:46:41</span>&nbsp;·&nbsp;⚙️3&nbsp;·&nbsp;[testlogger2]&nbsp;·&nbsp;<span style=\"\">test level 30</span></p>\n"
      ],
      "text/plain": [
       "<IPython.core.display.HTML object>"
      ]
     },
     "metadata": {},
     "output_type": "display_data"
    },
    {
     "data": {
      "text/html": [
       "<p style=\"margin:0pt;font-style:normal;color:rgb(140,140,160)\">💨 <span style=\"font-size:0.8em;font-weight:300;\">2020-09-04 11:46:41</span>&nbsp;·&nbsp;⚙️4&nbsp;·&nbsp;[testlogger2]&nbsp;·&nbsp;<span style=\"\">Starting task.</span></p>\n"
      ],
      "text/plain": [
       "<IPython.core.display.HTML object>"
      ]
     },
     "metadata": {},
     "output_type": "display_data"
    },
    {
     "data": {
      "text/html": [
       "<p style=\"margin:0pt;font-style:normal;color:rgb(140,140,160)\">💨 <span style=\"font-size:0.8em;font-weight:300;\">2020-09-04 11:46:41</span>&nbsp;·&nbsp;⚙️2&nbsp;·&nbsp;[testlogger2]&nbsp;·&nbsp;<span style=\"\">Starting task.</span></p>\n"
      ],
      "text/plain": [
       "<IPython.core.display.HTML object>"
      ]
     },
     "metadata": {},
     "output_type": "display_data"
    },
    {
     "data": {
      "text/html": [
       "<p style=\"margin:0pt;font-weight:500;color:rgb(200,0,0)\">🚨 <span style=\"font-size:0.8em;font-weight:300;\">2020-09-04 11:46:41</span>&nbsp;·&nbsp;⚙️4&nbsp;·&nbsp;[testlogger2]&nbsp;·&nbsp;<span style=\"font-size:1.1em\">test level 40</span>&emsp;🚨</p>\n"
      ],
      "text/plain": [
       "<IPython.core.display.HTML object>"
      ]
     },
     "metadata": {},
     "output_type": "display_data"
    },
    {
     "data": {
      "text/html": [
       "<p style=\"margin:0pt;font-weight:500;color:rgb(200,0,0)\">🚨 <span style=\"font-size:0.8em;font-weight:300;\">2020-09-04 11:46:41</span>&nbsp;·&nbsp;⚙️2&nbsp;·&nbsp;[testlogger2]&nbsp;·&nbsp;<span style=\"font-size:1.1em\">test level 50</span>&emsp;🚨</p>\n"
      ],
      "text/plain": [
       "<IPython.core.display.HTML object>"
      ]
     },
     "metadata": {},
     "output_type": "display_data"
    }
   ],
   "source": [
    "import multiprocessing\n",
    "\n",
    "def test_log(which_level):    \n",
    "    #display(\"Hi!\")\n",
    "    newlogger.debug(\"Starting task.\")\n",
    "    newlogger.log(which_level, \"test level %d\", which_level)\n",
    "\n",
    "# https://github.com/ipython/ipython/issues/11049#issue-306086846\n",
    "def init():\n",
    "    sys.stdout.write('.\\b')\n",
    "    sys.stdout.flush()\n",
    "\n",
    "with multiprocessing.Pool(4, initializer=init) as p:\n",
    "    for _ in p.imap_unordered(test_log, [logging.DEBUG, logging.INFO, logging.WARNING, logging.ERROR, logging.CRITICAL]):\n",
    "        pass"
   ]
  },
  {
   "cell_type": "code",
   "execution_count": null,
   "metadata": {},
   "outputs": [],
   "source": []
  },
  {
   "cell_type": "code",
   "execution_count": null,
   "metadata": {},
   "outputs": [],
   "source": []
  }
 ],
 "metadata": {
  "kernelspec": {
   "display_name": "utils-phfnbutils",
   "language": "python",
   "name": "utils-phfnbutils"
  },
  "language_info": {
   "codemirror_mode": {
    "name": "ipython",
    "version": 3
   },
   "file_extension": ".py",
   "mimetype": "text/x-python",
   "name": "python",
   "nbconvert_exporter": "python",
   "pygments_lexer": "ipython3",
   "version": "3.8.1"
  }
 },
 "nbformat": 4,
 "nbformat_minor": 4
}

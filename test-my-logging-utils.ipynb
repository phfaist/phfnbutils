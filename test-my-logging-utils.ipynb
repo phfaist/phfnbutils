{
 "cells": [
  {
   "cell_type": "code",
   "execution_count": 1,
   "metadata": {},
   "outputs": [],
   "source": [
    "import sys\n",
    "sys.path.insert(0, '/home/fu3480sn/Research/util/phfnbutils')\n",
    "\n",
    "import logging\n",
    "import re\n",
    "from IPython.display import display, Markdown, Latex"
   ]
  },
  {
   "cell_type": "code",
   "execution_count": 2,
   "metadata": {},
   "outputs": [
    {
     "data": {
      "text/markdown": [
       "*[Debug: ]*"
      ],
      "text/plain": [
       "<IPython.core.display.Markdown object>"
      ]
     },
     "metadata": {},
     "output_type": "display_data"
    }
   ],
   "source": [
    "display(Markdown(\"*[Debug: ]*\"))"
   ]
  },
  {
   "cell_type": "code",
   "execution_count": 42,
   "metadata": {},
   "outputs": [
    {
     "data": {
      "text/html": [
       "<p style=\"margin:0pt;font-style:normal;color:rgb(140,140,160)\">💨 <span style=\"font-size:0.8em;font-weight:300;\">2020-09-03 16:12:49</span>&nbsp;·&nbsp;<span style=\"\">Debugging message: value=3</span></p>\n"
      ],
      "text/plain": [
       "<IPython.core.display.HTML object>"
      ]
     },
     "metadata": {},
     "output_type": "display_data"
    },
    {
     "data": {
      "text/html": [
       "<p style=\"margin:0pt;font-style:normal;color:rgb(40,40,80)\">ℹ️ <span style=\"font-size:0.8em;font-weight:300;\">2020-09-03 16:12:49</span>&nbsp;·&nbsp;<span style=\"\">Information message. You might be interested by this &amp; that</span></p>\n"
      ],
      "text/plain": [
       "<IPython.core.display.HTML object>"
      ]
     },
     "metadata": {},
     "output_type": "display_data"
    },
    {
     "data": {
      "text/html": [
       "<p style=\"margin:0pt;font-style:normal;color:rgb(140,140,160)\">💨 <span style=\"font-size:0.8em;font-weight:300;\">2020-09-03 16:12:49</span>&nbsp;·&nbsp;[testlogger2]&nbsp;·&nbsp;<span style=\"\">Debugging message: value=3</span></p>\n"
      ],
      "text/plain": [
       "<IPython.core.display.HTML object>"
      ]
     },
     "metadata": {},
     "output_type": "display_data"
    },
    {
     "data": {
      "text/html": [
       "<p style=\"margin:0pt;font-weight:500;color:rgb(160,100,0)\">⚠️ <span style=\"font-size:0.8em;font-weight:300;\">2020-09-03 16:12:49</span>&nbsp;·&nbsp;<span style=\"\">Be careful! &lt;this is a warning&gt;&lt;I do think it is &amp; more even&gt;</span></p>\n"
      ],
      "text/plain": [
       "<IPython.core.display.HTML object>"
      ]
     },
     "metadata": {},
     "output_type": "display_data"
    },
    {
     "data": {
      "text/html": [
       "<p style=\"margin:0pt;font-weight:500;color:rgb(200,0,0)\">🚨 <span style=\"font-size:0.8em;font-weight:300;\">2020-09-03 16:12:49</span>&nbsp;·&nbsp;<span style=\"font-size:1.1em\">Error here.</span>&emsp;🚨</p>\n",
       "<pre style=\"margin-top:0.5em;color:rgb(200,0,0);\">Traceback (most recent call last):\n",
       "  File &quot;&lt;ipython-input-42-18cfe7ada21b&gt;&quot;, line 13, in &lt;module&gt;\n",
       "    raise ValueError(&quot;An error occurred here!&quot;)\n",
       "ValueError: An error occurred here!</pre>\n"
      ],
      "text/plain": [
       "<IPython.core.display.HTML object>"
      ]
     },
     "metadata": {},
     "output_type": "display_data"
    },
    {
     "data": {
      "text/html": [
       "<p style=\"margin:0pt;font-weight:500;color:rgb(200,0,0)\">🚨 <span style=\"font-size:0.8em;font-weight:300;\">2020-09-03 16:12:49</span>&nbsp;·&nbsp;<span style=\"font-size:1.1em\">Crashing!! ***Critical message***</span>&emsp;🚨</p>\n"
      ],
      "text/plain": [
       "<IPython.core.display.HTML object>"
      ]
     },
     "metadata": {},
     "output_type": "display_data"
    }
   ],
   "source": [
    "import phfnbutils.nblogging as phfnblogger\n",
    "import importlib; importlib.reload(phfnblogger)\n",
    "\n",
    "testlogger = phfnblogger.setup(no_debug_for=('matplotlib',), no_info_for=('filelock',),)\n",
    "                               #use_time=False, standard_names=[])\n",
    "\n",
    "testlogger.debug(\"Debugging message: value=%d\", 3)\n",
    "testlogger.info(\"Information message. You might be interested by %s & %s\", \"this\", \"that\")\n",
    "newlogger = logging.getLogger('testlogger2')\n",
    "newlogger.debug(\"Debugging message: value=%d\", 3)\n",
    "testlogger.warning(\"Be careful! <this is a warning><I do think it is & more even>\")\n",
    "try:\n",
    "    raise ValueError(\"An error occurred here!\")\n",
    "except Exception as e:\n",
    "    testlogger.error(\"Error here.\", exc_info=e)\n",
    "testlogger.critical(\"Crashing!! ***Critical message***\")"
   ]
  },
  {
   "cell_type": "code",
   "execution_count": null,
   "metadata": {},
   "outputs": [],
   "source": []
  },
  {
   "cell_type": "code",
   "execution_count": null,
   "metadata": {},
   "outputs": [],
   "source": []
  },
  {
   "cell_type": "code",
   "execution_count": null,
   "metadata": {},
   "outputs": [],
   "source": []
  },
  {
   "cell_type": "code",
   "execution_count": null,
   "metadata": {},
   "outputs": [],
   "source": []
  }
 ],
 "metadata": {
  "kernelspec": {
   "display_name": "pipenv [2018-aqecc-clocks/sdp_fisher_noise/DickeKErasures]",
   "language": "python",
   "name": "pipenv-2018-aqecc-clocks--sdp_fisher_noise--dickekerasures"
  },
  "language_info": {
   "codemirror_mode": {
    "name": "ipython",
    "version": 3
   },
   "file_extension": ".py",
   "mimetype": "text/x-python",
   "name": "python",
   "nbconvert_exporter": "python",
   "pygments_lexer": "ipython3",
   "version": "3.8.1"
  }
 },
 "nbformat": 4,
 "nbformat_minor": 4
}
